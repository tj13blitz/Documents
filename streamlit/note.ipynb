{
 "cells": [
  {
   "cell_type": "markdown",
   "id": "03de38c9",
   "metadata": {},
   "source": [
    "dsfsdsd"
   ]
  },
  {
   "cell_type": "code",
   "execution_count": null,
   "id": "52d41bb7",
   "metadata": {
    "vscode": {
     "languageId": "plaintext"
    }
   },
   "outputs": [],
   "source": []
  }
 ],
 "metadata": {
  "language_info": {
   "name": "python"
  }
 },
 "nbformat": 4,
 "nbformat_minor": 5
}
