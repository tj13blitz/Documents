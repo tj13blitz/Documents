{
 "cells": [
  {
   "cell_type": "markdown",
   "id": "03de38c9",
   "metadata": {},
   "source": [
    "dsfsdsd"
   ]
  },
  {
   "cell_type": "code",
   "execution_count": null,
   "id": "52d41bb7",
   "metadata": {},
   "outputs": [],
   "source": []
  }
 ],
 "metadata": {
  "kernelspec": {
   "display_name": ".venv",
   "language": "python",
   "name": "python3"
  },
  "language_info": {
   "name": "python",
   "version": "3.13.1"
  }
 },
 "nbformat": 4,
 "nbformat_minor": 5
}
